{
 "cells": [
  {
   "cell_type": "markdown",
   "metadata": {},
   "source": [
    "# Value function iteration\n",
    "## Uncertainty and the distribution of wealth\n",
    "\n",
    "\n",
    "## The model\n",
    "\n",
    "#### The agent's problem - recursive formulation\n",
    "\n",
    "For a given level of assets $a$, the agent's value function is as follows:\n",
    "\n",
    "$$ V(a_t,\\theta_t) = \\max_{c_t,a_{t+1}} u(c_t) + \\beta\\ \\mathbb{E}[ V(a_{t+1},\\theta_{t+1})]$$\n",
    "\n",
    "subject to the budget constraint,\n",
    "\n",
    "$$  q a_{t+1} + c_t \\leq \\theta_t + a_t,$$\n",
    "\n",
    "where $\\theta_t \\in \\Theta$ with $P(\\theta_t = \\theta) = \\pi_\\theta$\n",
    "\n",
    "#### The agent's problem - recasted with one state variable\n",
    "\n",
    "Our stochastic income process does not have any persistence; the realisation of $\\theta_{t+1}$ is independent of the value of $\\theta_{t}$. This means that we can re-cast the problem with only one state variable. There are a few ways to do this, but I'm going to choose the approach that keeps the envelope condition simple:\n",
    "\n",
    "Let \n",
    "$$\\hat{a}_t =  a_t + \\theta_t.$$\n",
    "\n",
    "We can re-write our agent's programme as follows\n",
    "\n",
    "$$ \\hat{V}(\\hat{a}_t) = \\max_{c_t,\\hat{a}_{t+1}} u(c_t) + \\beta\\ \\mathbb{E}[ \\hat{V}(\\hat{a}_{t+1})]$$\n",
    "\n",
    "subject to the budget constraint,\n",
    "\n",
    "$$  q (\\hat{a}_{t+1}-\\theta_{t+1})  \\leq \\hat{a}_t-c_t.$$\n",
    "\n",
    "\n",
    "#### Envelope condition\n",
    "\n",
    "$$ \\hat{V}_{\\hat{a}}(\\hat{a}_t) = u'(c_t) $$\n",
    "\n",
    "This equation will be used to calculate the optimal consumption choice (and as a conseqence the future asset holdings $a_{t+1}$) at each step of the iteration. \n",
    "\n",
    "#### Iterative solution method\n",
    "\n",
    "For initial $a_t$ and initial value function $V_n$, the value of future asset choice $a_{t+1}$ is\n",
    "\n",
    "$$V_{n+1}(\\hat{a}_t) = \\max_{c_t,\\hat{a}_{t+1}} u(c_t) + \\beta\\ \\mathbb{E}[ V_0(\\hat{a}_{t+1})]$$\n",
    "\n",
    "The ```v_update(v)``` function evaluates the above expression for $\\forall a_t\\in A,\\theta_t\\in\\Theta$."
   ]
  },
  {
   "cell_type": "markdown",
   "metadata": {},
   "source": [
    "### Preamble"
   ]
  },
  {
   "cell_type": "markdown",
   "metadata": {},
   "source": [
    "This notebook uses multi-threading. Check the output of `Threads.nthreads()` to ensure that you have multi-threading enabled. If the function returns `1`, [update your multi-threading environment variable](https://docs.julialang.org/en/v1/manual/multi-threading/). "
   ]
  },
  {
   "cell_type": "code",
   "execution_count": null,
   "metadata": {},
   "outputs": [],
   "source": [
    "Threads.nthreads()"
   ]
  },
  {
   "cell_type": "code",
   "execution_count": null,
   "metadata": {},
   "outputs": [],
   "source": [
    "# using Pkg;\n",
    "# Pkg.add.([\"StatsBase\",\"SpecialFunctions\"]);"
   ]
  },
  {
   "cell_type": "code",
   "execution_count": null,
   "metadata": {
    "scrolled": true
   },
   "outputs": [],
   "source": [
    "using Interpolations;\n",
    "using PGFPlots\n",
    "using SpecialFunctions;\n",
    "using StatsBase;\n",
    "using Optim;\n",
    "using BenchmarkTools;"
   ]
  },
  {
   "cell_type": "code",
   "execution_count": null,
   "metadata": {},
   "outputs": [],
   "source": [
    "include(\"functions/distribution_functions.jl\");\n",
    "include(\"functions/plotting_functions.jl\");"
   ]
  },
  {
   "cell_type": "markdown",
   "metadata": {},
   "source": [
    "# Model type"
   ]
  },
  {
   "cell_type": "code",
   "execution_count": null,
   "metadata": {},
   "outputs": [],
   "source": [
    "mutable struct OptimalPolicy\n",
    "    value::Vector{Float64}\n",
    "    assets::Vector{Any}    \n",
    "    consumption::Vector{Float64}\n",
    "end"
   ]
  },
  {
   "cell_type": "code",
   "execution_count": null,
   "metadata": {},
   "outputs": [],
   "source": [
    "mutable struct SimulatedData\n",
    "    income::Vector{Float64}\n",
    "    assets::Vector{Float64}    \n",
    "    consumption::Vector{Float64}\n",
    "end"
   ]
  },
  {
   "cell_type": "code",
   "execution_count": null,
   "metadata": {},
   "outputs": [],
   "source": [
    "mutable struct Distribution\n",
    "    pdf_grid::Vector{Float64}\n",
    "    pdf_uniform::Vector{Float64}    \n",
    "    cdf::Vector{Float64}\n",
    "    lorenz_consumption::Vector{Float64}    \n",
    "    lorenz_assets::Vector{Float64}            \n",
    "    gini_income::Float64    \n",
    "    gini_consumption::Float64      \n",
    "    gini_assets::Float64                   \n",
    "end"
   ]
  },
  {
   "cell_type": "code",
   "execution_count": null,
   "metadata": {},
   "outputs": [],
   "source": [
    "mutable struct Grid\n",
    "    gridpoints::Vector # grid values\n",
    "    gridmin::Float64   # minimum value\n",
    "    gridmax::Float64   # maximum value\n",
    "    ngrid::Int         # number of gridpoints\n",
    "end"
   ]
  },
  {
   "cell_type": "code",
   "execution_count": null,
   "metadata": {},
   "outputs": [],
   "source": [
    "mutable struct Model\n",
    "    parameters::Dict\n",
    "    grid::Union{Grid,Missing}\n",
    "    optimal_policy::Union{OptimalPolicy,Missing}\n",
    "    simulated_data::Union{SimulatedData,Missing}\n",
    "    distribution::Union{Distribution,Missing}\n",
    "end"
   ]
  },
  {
   "cell_type": "markdown",
   "metadata": {},
   "source": [
    "#### Convenience constructor\n",
    "\n",
    "A convenient way to construct new models"
   ]
  },
  {
   "cell_type": "code",
   "execution_count": null,
   "metadata": {},
   "outputs": [],
   "source": [
    "Model(parameters::Dict) = Model(parameters::Dict,missing,missing,missing,missing)"
   ]
  },
  {
   "cell_type": "markdown",
   "metadata": {},
   "source": [
    "## Parameters"
   ]
  },
  {
   "cell_type": "markdown",
   "metadata": {},
   "source": [
    "_Preferences_"
   ]
  },
  {
   "cell_type": "code",
   "execution_count": null,
   "metadata": {},
   "outputs": [],
   "source": [
    "β = 0.968; # time preference\n",
    "σ = 2;     # CRRA\n",
    "\n",
    "u(c) = c > 0 ? (c^(1-σ))/(1-σ) : -Inf; # felicity"
   ]
  },
  {
   "cell_type": "markdown",
   "metadata": {},
   "source": [
    "_Production_\n",
    "\n",
    "We generate income draws from a [zeta distribution](https://en.wikipedia.org/wiki/Zeta_distribution). This is the discrete equivalent of a Pareto distribution."
   ]
  },
  {
   "cell_type": "code",
   "execution_count": null,
   "metadata": {},
   "outputs": [],
   "source": [
    "n_θ = 10;                                # Income gridpoints\n",
    "θ   = range(1.0,stop=n_θ,length=n_θ);    # Income grid\n",
    "s_θ = 1.01;                              # Distribution parameter (higher is more unequal)\n",
    "π_θ = [k^(-s_θ)/zeta(s_θ) for k in θ];   # Probability mass function\n",
    "π_θ = π_θ./sum(π_θ);                     # Normalise sum(pmf) = 1"
   ]
  },
  {
   "cell_type": "code",
   "execution_count": null,
   "metadata": {},
   "outputs": [],
   "source": [
    "π_θ"
   ]
  },
  {
   "cell_type": "markdown",
   "metadata": {},
   "source": [
    "_Prices_"
   ]
  },
  {
   "cell_type": "code",
   "execution_count": null,
   "metadata": {},
   "outputs": [],
   "source": [
    "q = 1/1.03;"
   ]
  },
  {
   "cell_type": "code",
   "execution_count": null,
   "metadata": {},
   "outputs": [],
   "source": [
    "m = Model(\n",
    "        Dict(:β   => β,\n",
    "             :σ   => σ,\n",
    "             :u   => u,\n",
    "             :n_θ => n_θ,\n",
    "             :θ   => θ,\n",
    "             :π_θ => π_θ,\n",
    "             :q   => q\n",
    "        )\n",
    ")"
   ]
  },
  {
   "cell_type": "markdown",
   "metadata": {},
   "source": [
    "#### Initialise asset grid\n",
    "\n",
    "The lifetime wealth of an agent is the sum of asset holdings and the present value of future income streams, we can calculate a lower bound on lifetime wealth under the assumption that the agent earns the minimum endowment in all future periods\n",
    "\n",
    "$$\\underline{w}(a) = \\hat{a} + \\sum_{t=0}^\\infty q^t \\underline{\\theta}.$$\n",
    "\n",
    "This value can approach zero while still supporting positive consumption in all future states. So, we construct an exponentially-spaced grid over $\\underline{w}$, then from that construct a grid over $a$."
   ]
  },
  {
   "cell_type": "code",
   "execution_count": null,
   "metadata": {},
   "outputs": [],
   "source": [
    "w_min  = 2.0;\n",
    "w_max  = 300.0;\n",
    "n_grid = 50;\n",
    "w_grid = exp.(range(log(w_min),stop=log(w_max),length=n_grid))\n",
    "\n",
    "a_grid = w_grid .- (1/(1-q))*θ[1];\n",
    "a_min  = minimum(a_grid)\n",
    "a_max  = maximum(a_grid)\n",
    "\n",
    "m.grid = Grid(a_grid,a_min,a_max,n_grid)"
   ]
  },
  {
   "cell_type": "markdown",
   "metadata": {},
   "source": [
    "#### Generate initial guess"
   ]
  },
  {
   "cell_type": "code",
   "execution_count": null,
   "metadata": {},
   "outputs": [],
   "source": [
    "c0 = (1-β).*w_grid;\n",
    "v0 = (1/(1-β)).*u.(c0);\n",
    "\n",
    "push!(m.parameters,:c0 => c0);\n",
    "push!(m.parameters,:v0 => v0);"
   ]
  },
  {
   "cell_type": "code",
   "execution_count": null,
   "metadata": {},
   "outputs": [],
   "source": [
    "function v_update(v,model::Model)\n",
    "    \n",
    "    a_grid = model.grid.gridpoints\n",
    "    a_min  = model.grid.gridmin \n",
    "    a_max  = model.grid.gridmax \n",
    "    n_grid = model.grid.ngrid     \n",
    "    β      = model.parameters[:β]\n",
    "    σ      = model.parameters[:σ]\n",
    "    q      = model.parameters[:q]    \n",
    "    θ      = model.parameters[:θ]\n",
    "    n_θ    = model.parameters[:n_θ]    \n",
    "    π_θ    = model.parameters[:π_θ]        \n",
    "    u      = model.parameters[:u]            \n",
    "    \n",
    "    v_itp   = interpolate(a_grid,v,SteffenMonotonicInterpolation())\n",
    "    \n",
    "    v_a(a) = Interpolations.gradient(v_itp, a)[1]\n",
    "    \n",
    "    cstar = Vector{Float64}(undef,n_grid)\n",
    "    astar = Vector{Vector{Float64}}(undef,n_grid)\n",
    "    vstar = Vector{Float64}(undef,n_grid)    \n",
    "    \n",
    "    Threads.@threads for i in 1:n_grid\n",
    "    \n",
    "        cstar[i] = min(max(v_a(a_grid[i])^(-1/σ),a_grid[i]-q*(a_max-θ[n_θ])),a_grid[i]-q*(a_min-θ[1])) \n",
    "        astar[i] = (a_grid[i] - cstar[i])/q .+ θ\n",
    "        vstar[i] = u(cstar[i]) .+ β* π_θ'*v_itp.(astar[i])\n",
    "    \n",
    "    end    \n",
    "        \n",
    "    return (vstar,astar,cstar)\n",
    "end"
   ]
  },
  {
   "cell_type": "code",
   "execution_count": null,
   "metadata": {},
   "outputs": [],
   "source": [
    "(vs,as,cs) = v_update(v0,m);"
   ]
  },
  {
   "cell_type": "code",
   "execution_count": null,
   "metadata": {},
   "outputs": [],
   "source": [
    "as[1]"
   ]
  },
  {
   "cell_type": "markdown",
   "metadata": {},
   "source": [
    "To solve the model, we iterate over value functions as follows:\n",
    "\n",
    "$$ V_1(a) = \\max_{a'\\in A} u(y + Ra- a') + \\beta\\  V_0(a')$$"
   ]
  },
  {
   "cell_type": "code",
   "execution_count": null,
   "metadata": {},
   "outputs": [],
   "source": [
    "function solve!(model;max_iter=1000,tol_d=1e-2,verbose=false)\n",
    "\n",
    "    a_grid = model.grid.gridpoints\n",
    "    v0     = model.parameters[:v0]\n",
    "    \n",
    "    v      = deepcopy(v0);\n",
    "    vprime = deepcopy(v);\n",
    "    aprime = Array{Float64,1}(a_grid);\n",
    "    cstar  = zeros(size(a_grid));    \n",
    "    d      = 1000;\n",
    "    i      = 1;\n",
    "    \n",
    "    while i <= max_iter && d > tol_d\n",
    "        (vprime,aprime,cstar) = v_update(v,model) # vprime_int(v) \n",
    "        i     += 1\n",
    "        d      = (vprime .- v).^2 |> sum |> sqrt\n",
    "        v      = deepcopy(vprime)\n",
    "    end\n",
    "\n",
    "    if verbose\n",
    "        println(\"iteration = $i\")\n",
    "        println(\"distance  = $(round(d,digits=6))\")\n",
    "    end\n",
    "    \n",
    "    model.optimal_policy = OptimalPolicy(v,aprime,cstar)    \n",
    "\n",
    "end;"
   ]
  },
  {
   "cell_type": "code",
   "execution_count": null,
   "metadata": {},
   "outputs": [],
   "source": [
    "@time solve!(m;max_iter=1000,tol_d=1e-5);"
   ]
  },
  {
   "cell_type": "markdown",
   "metadata": {},
   "source": [
    "### Plotting the results"
   ]
  },
  {
   "cell_type": "code",
   "execution_count": null,
   "metadata": {},
   "outputs": [],
   "source": [
    "plot_optimalpolicy(m)"
   ]
  },
  {
   "cell_type": "markdown",
   "metadata": {},
   "source": [
    "# A typical path"
   ]
  },
  {
   "cell_type": "code",
   "execution_count": null,
   "metadata": {},
   "outputs": [],
   "source": [
    "function generate_path!(model;n_periods=100,burn=100,a_init=0.0)\n",
    "\n",
    "    a_grid = model.grid.gridpoints   \n",
    "    θ      = model.parameters[:θ]\n",
    "    n_θ    = model.parameters[:n_θ]    \n",
    "    π_θ    = model.parameters[:π_θ]        \n",
    "    vstar  = model.optimal_policy.value\n",
    "    astar  = model.optimal_policy.assets    \n",
    "    cstar  = model.optimal_policy.consumption\n",
    "    \n",
    "    θ_index_path = sample( 1:n_θ, ProbabilityWeights(π_θ), n_periods+burn)\n",
    "    a_path = zeros(n_periods+burn)\n",
    "    c_path = zeros(n_periods+burn)\n",
    "    a_path[1] = a_init\n",
    "\n",
    "    int_astar = interpolate.([(collect(a_grid),)],[[a[i] for a in astar] for i in 1:n_θ],[Gridded(Linear())])\n",
    "    int_cstar = interpolate((collect(a_grid),),cstar,Gridded(Linear()))\n",
    "\n",
    "    c_path[1] = int_cstar(a_init)\n",
    "    \n",
    "    for τ = 2:n_periods + burn\n",
    "        a_path[τ] = int_astar[θ_index_path[τ]](a_path[τ-1])\n",
    "        c_path[τ] = int_cstar(a_path[τ])        \n",
    "    end\n",
    "    \n",
    "    θ_path = [θ[i] for i in θ_index_path]\n",
    "    \n",
    "    model.simulated_data = SimulatedData(θ_path[burn+1:n_periods+burn],\n",
    "                                         a_path[burn+1:n_periods+burn],\n",
    "                                         c_path[burn+1:n_periods+burn])  \n",
    "    \n",
    "end"
   ]
  },
  {
   "cell_type": "code",
   "execution_count": null,
   "metadata": {},
   "outputs": [],
   "source": [
    "generate_path!(m)"
   ]
  },
  {
   "cell_type": "code",
   "execution_count": null,
   "metadata": {},
   "outputs": [],
   "source": [
    "plot_simulateddata(m)"
   ]
  },
  {
   "cell_type": "markdown",
   "metadata": {},
   "source": [
    "## Stationary distribution"
   ]
  },
  {
   "cell_type": "markdown",
   "metadata": {},
   "source": [
    "We solve for the stationary distribution by starting with an initial guess distribution, then simulating the model until the distribution converges."
   ]
  },
  {
   "cell_type": "code",
   "execution_count": null,
   "metadata": {},
   "outputs": [],
   "source": [
    "# Initial guess distribution\n",
    "ϕ_0 = ones(n_grid)./n_grid;\n",
    "push!(m.parameters,:ϕ_0 => ϕ_0);"
   ]
  },
  {
   "cell_type": "markdown",
   "metadata": {},
   "source": [
    "One function that will help us a lot is an interpolant that quickly returns the index number associated with a specific gridpoint. We create that below and add it to the parameters of our model:"
   ]
  },
  {
   "cell_type": "code",
   "execution_count": null,
   "metadata": {},
   "outputs": [],
   "source": [
    "int_index(model) = interpolate((collect(model.grid.gridpoints),),collect(1:size(model.grid.gridpoints)[1]),Gridded(Linear()))\n",
    "push!(m.parameters,:int_index => int_index(m));"
   ]
  },
  {
   "cell_type": "code",
   "execution_count": null,
   "metadata": {},
   "outputs": [],
   "source": [
    "function ϕ_update(ϕ,model)\n",
    "\n",
    "    astar  = model.optimal_policy.assets\n",
    "    n_grid = model.grid.ngrid\n",
    "    π_θ    = model.parameters[:π_θ]\n",
    "    n_θ    = model.parameters[:n_θ]  \n",
    "    \n",
    "    int_index = model.parameters[:int_index]    \n",
    "    \n",
    "    ϕ_prime = zeros(n_grid)\n",
    "    index   = Float64(0.0)\n",
    "    inddown = Int(0)\n",
    "    indup   = Int(0)\n",
    "\n",
    "    for i in 1:n_grid, j in 1:n_θ\n",
    "           index   = int_index(astar[i][j]) \n",
    "           inddown = index |> floor |> Int\n",
    "           indup   = index |> ceil |> Int\n",
    "           ϕ_prime[inddown] = ϕ_prime[inddown] + π_θ[j]*ϕ[i]*(indup - index)\n",
    "           ϕ_prime[indup]   = ϕ_prime[indup]   + π_θ[j]*ϕ[i]*(index - inddown)\n",
    "    end\n",
    "    \n",
    "    return ϕ_prime./sum(ϕ_prime)\n",
    "\n",
    "end"
   ]
  },
  {
   "cell_type": "code",
   "execution_count": null,
   "metadata": {},
   "outputs": [],
   "source": [
    "@btime ϕ_update(ϕ_0,m);"
   ]
  },
  {
   "cell_type": "code",
   "execution_count": null,
   "metadata": {},
   "outputs": [],
   "source": [
    "function solve_distribution!(model;max_iter=10000,tol_d=1e-6)\n",
    "    \n",
    "    int_index(model) = interpolate((collect(model.grid.gridpoints),),collect(1:size(model.grid.gridpoints)[1]),Gridded(Linear()))\n",
    "    push!(model.parameters,:int_index => int_index(model));\n",
    "    \n",
    "    ϕ_0    = model.parameters[:ϕ_0]  \n",
    "    astar  = model.optimal_policy.assets\n",
    "    cstar  = model.optimal_policy.consumption\n",
    "    a_grid = model.grid.gridpoints\n",
    "    n_grid = size(model.grid.gridpoints)[1]    \n",
    "    π_θ    = model.parameters[:π_θ]\n",
    "    θ      = model.parameters[:θ]    \n",
    "    a_trunc= [maximum([a,0.0]) for a in a_grid]\n",
    "    \n",
    "    ϕ       = deepcopy(ϕ_0);\n",
    "    ϕ_prime = deepcopy(ϕ_0);\n",
    "    \n",
    "    d      = 1000;\n",
    "    i      = 1;\n",
    "    \n",
    "    while i <= max_iter && d > tol_d\n",
    "        ϕ_prime = ϕ_update(ϕ,model) # vprime_int(v) \n",
    "        i      += 1\n",
    "        d       = (ϕ_prime .- ϕ).^2 |> sum |> sqrt\n",
    "        ϕ       = deepcopy(ϕ_prime)\n",
    "    end\n",
    "\n",
    "    cdf    = [sum(ϕ[1:i]) for i in 1:n_grid]\n",
    "    \n",
    "    model.distribution = Distribution(\n",
    "                            ϕ,\n",
    "                            genpdf(cdf,model.grid.gridpoints),\n",
    "                            cdf,\n",
    "                            Lorenz(ϕ,cstar),\n",
    "                            Lorenz(ϕ,a_trunc),\n",
    "                            gini(π_θ,θ), \n",
    "                            gini(ϕ,cstar),\n",
    "                            gini(ϕ,a_trunc)\n",
    "                            )\n",
    "                \n",
    "    \n",
    "end;"
   ]
  },
  {
   "cell_type": "code",
   "execution_count": null,
   "metadata": {},
   "outputs": [],
   "source": [
    "@btime solve_distribution!(m;max_iter=100000,tol_d=1e-6);"
   ]
  },
  {
   "cell_type": "markdown",
   "metadata": {},
   "source": [
    "#### Plotting the results"
   ]
  },
  {
   "cell_type": "code",
   "execution_count": null,
   "metadata": {},
   "outputs": [],
   "source": [
    "plot_distributions(m)"
   ]
  },
  {
   "cell_type": "markdown",
   "metadata": {},
   "source": [
    "# Parameter estimation (complete for your problem set)\n",
    "\n",
    "We start by creating a function that takes a vector of parameters as inputs and outputs a solved model.\n",
    "\n",
    "`parameters` is a vector containing $[\\beta,\\sigma,s_{\\theta}]$"
   ]
  },
  {
   "cell_type": "code",
   "execution_count": null,
   "metadata": {},
   "outputs": [],
   "source": [
    "function generate_moments(parameters::Vector{Float64})\n",
    "    \n",
    "    s_θ = parameters[3];                     # Distribution parameter (higher is more unequal)\n",
    "    π_θ = [k^(-s_θ)/zeta(s_θ) for k in θ];   # Probability mass function\n",
    "    π_θ = π_θ./sum(π_θ);                     # Normalise sum(pmf) = 1\n",
    "    \n",
    "    m = Model(\n",
    "        Dict(:β   => parameters[1],\n",
    "             :σ   => parameters[2],\n",
    "             :u   => u,\n",
    "             :n_θ => n_θ,\n",
    "             :θ   => θ,\n",
    "             :π_θ => π_θ,\n",
    "             :q   => q\n",
    "        )\n",
    "    )\n",
    "    \n",
    "    w_min  = 2.0;\n",
    "    w_max  = 300.0;\n",
    "    n_grid = 50;\n",
    "    w_grid = exp.(range(log(w_min),stop=log(w_max),length=n_grid))\n",
    "\n",
    "    a_grid = w_grid .- (1/(1-q))*θ[1];\n",
    "    a_min  = minimum(a_grid)\n",
    "    a_max  = maximum(a_grid)\n",
    "\n",
    "    m.grid = Grid(a_grid,a_min,a_max,n_grid)\n",
    "    \n",
    "    c0 = (1-β).*w_grid;\n",
    "    v0 = (1/(1-β)).*u.(c0);\n",
    "\n",
    "    push!(m.parameters,:c0 => c0);\n",
    "    push!(m.parameters,:v0 => v0);\n",
    "    \n",
    "    solve!(m;max_iter=1000,tol_d=1e-5);\n",
    "    \n",
    "    ϕ_0 = ones(n_grid)./n_grid;\n",
    "    push!(m.parameters,:ϕ_0 => ϕ_0);\n",
    "    \n",
    "    solve_distribution!(m;max_iter=100000,tol_d=1e-6);\n",
    "    \n",
    "    return m\n",
    "end"
   ]
  },
  {
   "cell_type": "code",
   "execution_count": null,
   "metadata": {},
   "outputs": [],
   "source": [
    "generate_moments([0.968,2.2,1.02]).distribution.gini_consumption"
   ]
  },
  {
   "cell_type": "code",
   "execution_count": null,
   "metadata": {},
   "outputs": [],
   "source": [
    "m.distribution.gini_consumption"
   ]
  },
  {
   "cell_type": "code",
   "execution_count": null,
   "metadata": {},
   "outputs": [],
   "source": []
  }
 ],
 "metadata": {
  "kernelspec": {
   "display_name": "Julia 1.5.0",
   "language": "julia",
   "name": "julia-1.5"
  },
  "language_info": {
   "file_extension": ".jl",
   "mimetype": "application/julia",
   "name": "julia",
   "version": "1.5.0"
  }
 },
 "nbformat": 4,
 "nbformat_minor": 2
}
